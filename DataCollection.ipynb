{
  "nbformat": 4,
  "nbformat_minor": 0,
  "metadata": {
    "colab": {
      "name": "Untitled0.ipynb",
      "provenance": [],
      "mount_file_id": "1GKHRkf0cTvPr9zmMtncp6SbN79hpzuDS",
      "authorship_tag": "ABX9TyMvk2y9U2Mg5dNnPGb1mxMK",
      "include_colab_link": true
    },
    "kernelspec": {
      "name": "python3",
      "display_name": "Python 3"
    },
    "language_info": {
      "name": "python"
    }
  },
  "cells": [
    {
      "cell_type": "markdown",
      "metadata": {
        "id": "view-in-github",
        "colab_type": "text"
      },
      "source": [
        "<a href=\"https://colab.research.google.com/github/CRWill97/SearchTrendsAPI/blob/main/DataCollection.ipynb\" target=\"_parent\"><img src=\"https://colab.research.google.com/assets/colab-badge.svg\" alt=\"Open In Colab\"/></a>"
      ]
    },
    {
      "cell_type": "code",
      "execution_count": null,
      "metadata": {
        "id": "Ab8OqFv0Crns"
      },
      "outputs": [],
      "source": [
        "from google.colab import auth\n",
        "auth.authenticate_user()\n",
        "import gspread\n",
        "from google.auth import default\n",
        "creds, _= default()\n",
        "gc = gspread.authorize(creds)"
      ]
    },
    {
      "cell_type": "code",
      "source": [
        "!pip install Pytrends\n",
        "!pip install pandas\n",
        "from pytrends.request import TrendReq\n",
        "import pandas as pd\n",
        "import time\n",
        "startTime = time.time()\n",
        "pytrend = TrendReq(hl='en-GB', tz=360)\n",
        "df = wb = gc.open_by_url('...')\n",
        "sheet = wb.sheet1\n",
        "df2 = sheet.col_values(5)\n",
        "d_from = sheet.acell('B7').value\n",
        "d_to = sheet.acell('B8').value\n",
        "geo1 = sheet.acell('B10').value\n",
        "dataset = []\n",
        "for x in range(0,len(df2)):\n",
        "    keywords = [df2[x]]\n",
        "    pytrend.build_payload(\n",
        "    kw_list=keywords,\n",
        "    cat=0,\n",
        "    timeframe= str(d_from + \" \" + d_to),\n",
        "    geo= str(geo1))\n",
        "    data = pytrend.interest_over_time()\n",
        "    if not data.empty:\n",
        "        data = data.drop(labels=['isPartial'], axis='columns')\n",
        "        dataset.append(data)\n",
        "result = pd.concat(dataset, axis=1)\n",
        "result.to_csv('search_trends_DOWNLOAD_ME.csv')\n",
        "!cp tea_search_trends_DOWNLOAD_ME.csv \"/content/drive/MyDrive/Colab Notebooks\"\n",
        "executionTime = (time.time()-startTime)\n",
        "print('Execution time in sec.: '+ str(executionTime))"
      ],
      "metadata": {
        "colab": {
          "base_uri": "https://localhost:8080/"
        },
        "id": "4auB2aerHWrJ",
        "outputId": "4b816806-b8f7-4d08-9a53-54f9a45a7334"
      },
      "execution_count": null,
      "outputs": [
        {
          "output_type": "stream",
          "name": "stdout",
          "text": [
            "Collecting Pytrends\n",
            "  Downloading pytrends-4.8.0.tar.gz (19 kB)\n",
            "Requirement already satisfied: requests>=2.0 in /usr/local/lib/python3.7/dist-packages (from Pytrends) (2.23.0)\n",
            "Requirement already satisfied: pandas>=0.25 in /usr/local/lib/python3.7/dist-packages (from Pytrends) (1.3.5)\n",
            "Requirement already satisfied: lxml in /usr/local/lib/python3.7/dist-packages (from Pytrends) (4.2.6)\n",
            "Requirement already satisfied: pytz>=2017.3 in /usr/local/lib/python3.7/dist-packages (from pandas>=0.25->Pytrends) (2022.1)\n",
            "Requirement already satisfied: numpy>=1.17.3 in /usr/local/lib/python3.7/dist-packages (from pandas>=0.25->Pytrends) (1.21.6)\n",
            "Requirement already satisfied: python-dateutil>=2.7.3 in /usr/local/lib/python3.7/dist-packages (from pandas>=0.25->Pytrends) (2.8.2)\n",
            "Requirement already satisfied: six>=1.5 in /usr/local/lib/python3.7/dist-packages (from python-dateutil>=2.7.3->pandas>=0.25->Pytrends) (1.15.0)\n",
            "Requirement already satisfied: urllib3!=1.25.0,!=1.25.1,<1.26,>=1.21.1 in /usr/local/lib/python3.7/dist-packages (from requests>=2.0->Pytrends) (1.24.3)\n",
            "Requirement already satisfied: idna<3,>=2.5 in /usr/local/lib/python3.7/dist-packages (from requests>=2.0->Pytrends) (2.10)\n",
            "Requirement already satisfied: chardet<4,>=3.0.2 in /usr/local/lib/python3.7/dist-packages (from requests>=2.0->Pytrends) (3.0.4)\n",
            "Requirement already satisfied: certifi>=2017.4.17 in /usr/local/lib/python3.7/dist-packages (from requests>=2.0->Pytrends) (2021.10.8)\n",
            "Building wheels for collected packages: Pytrends\n",
            "  Building wheel for Pytrends (setup.py) ... \u001b[?25l\u001b[?25hdone\n",
            "  Created wheel for Pytrends: filename=pytrends-4.8.0-py3-none-any.whl size=16126 sha256=2611ca469d1a2ef02d0dbe71add536a1abfee425097b2f5d971d21986eed468d\n",
            "  Stored in directory: /root/.cache/pip/wheels/07/6f/5c/8174f98dec1bfbc7d5da4092854afcbcff4b26c3d9b66b5183\n",
            "Successfully built Pytrends\n",
            "Installing collected packages: Pytrends\n",
            "Successfully installed Pytrends-4.8.0\n",
            "Requirement already satisfied: pandas in /usr/local/lib/python3.7/dist-packages (1.3.5)\n",
            "Requirement already satisfied: numpy>=1.17.3 in /usr/local/lib/python3.7/dist-packages (from pandas) (1.21.6)\n",
            "Requirement already satisfied: python-dateutil>=2.7.3 in /usr/local/lib/python3.7/dist-packages (from pandas) (2.8.2)\n",
            "Requirement already satisfied: pytz>=2017.3 in /usr/local/lib/python3.7/dist-packages (from pandas) (2022.1)\n",
            "Requirement already satisfied: six>=1.5 in /usr/local/lib/python3.7/dist-packages (from python-dateutil>=2.7.3->pandas) (1.15.0)\n",
            "Execution time in sec.: 6.866334915161133\n"
          ]
        }
      ]
    },
    {
      "cell_type": "code",
      "source": [
        ""
      ],
      "metadata": {
        "id": "zfdmyXwZfrxc"
      },
      "execution_count": null,
      "outputs": []
    }
  ]
}
